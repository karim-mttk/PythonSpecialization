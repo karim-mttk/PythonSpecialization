{
 "cells": [
  {
   "cell_type": "markdown",
   "id": "3c0f4894",
   "metadata": {},
   "source": [
    "## Chapter 2: The Basics"
   ]
  },
  {
   "cell_type": "code",
   "execution_count": 1,
   "id": "6d16303b",
   "metadata": {},
   "outputs": [],
   "source": [
    "class Node:\n",
    "    def __init__(self, value, next=None):\n",
    "        self.value = value\n",
    "        self.next = next"
   ]
  },
  {
   "cell_type": "code",
   "execution_count": 2,
   "id": "8133e36b",
   "metadata": {},
   "outputs": [],
   "source": [
    "L = Node(\"a\", Node('b', Node('c',Node('d'))))"
   ]
  },
  {
   "cell_type": "code",
   "execution_count": 3,
   "id": "7d279159",
   "metadata": {},
   "outputs": [
    {
     "data": {
      "text/plain": [
       "'c'"
      ]
     },
     "execution_count": 3,
     "metadata": {},
     "output_type": "execute_result"
    }
   ],
   "source": [
    "L.next.next.value"
   ]
  },
  {
   "cell_type": "code",
   "execution_count": 4,
   "id": "b458725f",
   "metadata": {},
   "outputs": [
    {
     "data": {
      "text/plain": [
       "'b'"
      ]
     },
     "execution_count": 4,
     "metadata": {},
     "output_type": "execute_result"
    }
   ],
   "source": [
    "L.next.value"
   ]
  },
  {
   "cell_type": "code",
   "execution_count": null,
   "id": "ec28382b",
   "metadata": {},
   "outputs": [],
   "source": []
  }
 ],
 "metadata": {
  "kernelspec": {
   "display_name": "Python 3 (ipykernel)",
   "language": "python",
   "name": "python3"
  },
  "language_info": {
   "codemirror_mode": {
    "name": "ipython",
    "version": 3
   },
   "file_extension": ".py",
   "mimetype": "text/x-python",
   "name": "python",
   "nbconvert_exporter": "python",
   "pygments_lexer": "ipython3",
   "version": "3.10.12"
  }
 },
 "nbformat": 4,
 "nbformat_minor": 5
}
