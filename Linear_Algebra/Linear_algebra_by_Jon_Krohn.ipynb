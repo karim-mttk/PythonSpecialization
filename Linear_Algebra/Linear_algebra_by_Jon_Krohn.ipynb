{
  "cells": [
    {
      "cell_type": "markdown",
      "id": "97399667",
      "metadata": {
        "id": "97399667"
      },
      "source": [
        "## Scalars (Rank 0 Tensors) in python"
      ]
    },
    {
      "cell_type": "code",
      "execution_count": null,
      "id": "10fd2609",
      "metadata": {
        "id": "10fd2609",
        "outputId": "ce68c38e-8747-47de-9ced-f73f0d9b656d"
      },
      "outputs": [
        {
          "data": {
            "text/plain": [
              "25"
            ]
          },
          "execution_count": 2,
          "metadata": {},
          "output_type": "execute_result"
        }
      ],
      "source": [
        "x = 25\n",
        "x"
      ]
    },
    {
      "cell_type": "code",
      "execution_count": null,
      "id": "44548852",
      "metadata": {
        "id": "44548852"
      },
      "outputs": [],
      "source": [
        "y = 3"
      ]
    },
    {
      "cell_type": "code",
      "execution_count": null,
      "id": "c8e187f2",
      "metadata": {
        "id": "c8e187f2",
        "outputId": "f3ad1d68-75ab-44b5-e2f4-9f6f7fe30ae7"
      },
      "outputs": [
        {
          "data": {
            "text/plain": [
              "28"
            ]
          },
          "execution_count": 4,
          "metadata": {},
          "output_type": "execute_result"
        }
      ],
      "source": [
        "py_sum = x + y\n",
        "py_sum"
      ]
    },
    {
      "cell_type": "code",
      "execution_count": null,
      "id": "5a1062e6",
      "metadata": {
        "id": "5a1062e6",
        "outputId": "7b0cb1bd-bb3f-4ce5-9bda-5c4bec49a4a7"
      },
      "outputs": [
        {
          "data": {
            "text/plain": [
              "int"
            ]
          },
          "execution_count": 5,
          "metadata": {},
          "output_type": "execute_result"
        }
      ],
      "source": [
        "type(py_sum)"
      ]
    },
    {
      "cell_type": "code",
      "execution_count": null,
      "id": "cc6dda6b",
      "metadata": {
        "id": "cc6dda6b",
        "outputId": "55c2c344-a4ee-4c3a-82f7-ae871782c42a"
      },
      "outputs": [
        {
          "data": {
            "text/plain": [
              "28.0"
            ]
          },
          "execution_count": 6,
          "metadata": {},
          "output_type": "execute_result"
        }
      ],
      "source": [
        "x_float = 25.0\n",
        "float_sum = x_float + y\n",
        "float_sum"
      ]
    },
    {
      "cell_type": "code",
      "execution_count": null,
      "id": "42c7dee4",
      "metadata": {
        "id": "42c7dee4",
        "outputId": "7c2cede4-7f9a-40e3-d126-20424128b1df"
      },
      "outputs": [
        {
          "data": {
            "text/plain": [
              "float"
            ]
          },
          "execution_count": 7,
          "metadata": {},
          "output_type": "execute_result"
        }
      ],
      "source": [
        "type(float_sum)"
      ]
    },
    {
      "cell_type": "markdown",
      "id": "30e1bdca",
      "metadata": {
        "id": "30e1bdca"
      },
      "source": [
        "### Scalars in PyTorch"
      ]
    },
    {
      "cell_type": "code",
      "execution_count": 1,
      "id": "02972bdd",
      "metadata": {
        "id": "02972bdd"
      },
      "outputs": [],
      "source": [
        "import torch"
      ]
    },
    {
      "cell_type": "code",
      "execution_count": 4,
      "id": "2a07d064",
      "metadata": {
        "colab": {
          "base_uri": "https://localhost:8080/"
        },
        "id": "2a07d064",
        "outputId": "004c0092-77cd-44aa-bc8e-1e3cd4d6a0e8"
      },
      "outputs": [
        {
          "output_type": "execute_result",
          "data": {
            "text/plain": [
              "tensor(25)"
            ]
          },
          "metadata": {},
          "execution_count": 4
        }
      ],
      "source": [
        "x_pt = torch.tensor(25)\n",
        "x_pt"
      ]
    },
    {
      "cell_type": "code",
      "source": [
        "x_pt.shape"
      ],
      "metadata": {
        "colab": {
          "base_uri": "https://localhost:8080/"
        },
        "id": "7tjv6tcSm1Yl",
        "outputId": "a5f39a67-a573-40f0-da75-58b64e3fe07b"
      },
      "id": "7tjv6tcSm1Yl",
      "execution_count": 5,
      "outputs": [
        {
          "output_type": "execute_result",
          "data": {
            "text/plain": [
              "torch.Size([])"
            ]
          },
          "metadata": {},
          "execution_count": 5
        }
      ]
    },
    {
      "cell_type": "markdown",
      "source": [
        "### Scalars in TensorFlow"
      ],
      "metadata": {
        "id": "Qbn_xET5nYI4"
      },
      "id": "Qbn_xET5nYI4"
    },
    {
      "cell_type": "code",
      "source": [
        "import tensorflow as tf"
      ],
      "metadata": {
        "id": "UEXdXkSQnQsZ"
      },
      "id": "UEXdXkSQnQsZ",
      "execution_count": 6,
      "outputs": []
    },
    {
      "cell_type": "code",
      "source": [
        "x_tf = tf.Variable(25, dtype=tf.int16)\n",
        "x_tf"
      ],
      "metadata": {
        "colab": {
          "base_uri": "https://localhost:8080/"
        },
        "id": "wpfftrl8nla5",
        "outputId": "57ec6952-7661-4320-d834-fdbe55e13ccc"
      },
      "id": "wpfftrl8nla5",
      "execution_count": 8,
      "outputs": [
        {
          "output_type": "execute_result",
          "data": {
            "text/plain": [
              "<tf.Variable 'Variable:0' shape=() dtype=int16, numpy=25>"
            ]
          },
          "metadata": {},
          "execution_count": 8
        }
      ]
    },
    {
      "cell_type": "code",
      "source": [
        "x_tf.shape"
      ],
      "metadata": {
        "colab": {
          "base_uri": "https://localhost:8080/"
        },
        "id": "ZN6AasYZnrMZ",
        "outputId": "5a201526-a029-402e-c5cc-011fd649b0c9"
      },
      "id": "ZN6AasYZnrMZ",
      "execution_count": 9,
      "outputs": [
        {
          "output_type": "execute_result",
          "data": {
            "text/plain": [
              "TensorShape([])"
            ]
          },
          "metadata": {},
          "execution_count": 9
        }
      ]
    },
    {
      "cell_type": "code",
      "source": [
        "y_tf = tf.Variable(3, dtype=tf.int16)"
      ],
      "metadata": {
        "id": "rx8hAUiAnv0b"
      },
      "id": "rx8hAUiAnv0b",
      "execution_count": 10,
      "outputs": []
    },
    {
      "cell_type": "code",
      "source": [
        "x_tf + y_tf"
      ],
      "metadata": {
        "colab": {
          "base_uri": "https://localhost:8080/"
        },
        "id": "oGQP0Yutn5Fa",
        "outputId": "2a8d9880-8eb5-407f-a6ba-54b83cb94770"
      },
      "id": "oGQP0Yutn5Fa",
      "execution_count": 11,
      "outputs": [
        {
          "output_type": "execute_result",
          "data": {
            "text/plain": [
              "<tf.Tensor: shape=(), dtype=int16, numpy=28>"
            ]
          },
          "metadata": {},
          "execution_count": 11
        }
      ]
    },
    {
      "cell_type": "code",
      "source": [
        "tf_sum = tf.add(x_tf, y_tf)\n",
        "tf_sum"
      ],
      "metadata": {
        "colab": {
          "base_uri": "https://localhost:8080/"
        },
        "id": "EzvLDFZgn7lq",
        "outputId": "1a1c7c8c-faf1-459e-9541-b5a23a7373c1"
      },
      "id": "EzvLDFZgn7lq",
      "execution_count": 13,
      "outputs": [
        {
          "output_type": "execute_result",
          "data": {
            "text/plain": [
              "<tf.Tensor: shape=(), dtype=int16, numpy=28>"
            ]
          },
          "metadata": {},
          "execution_count": 13
        }
      ]
    },
    {
      "cell_type": "code",
      "source": [
        "#converting tensors to numpy arrays\n",
        "tf_sum.numpy()"
      ],
      "metadata": {
        "colab": {
          "base_uri": "https://localhost:8080/"
        },
        "id": "vJsn0k2PoCDK",
        "outputId": "e92393ce-148d-44d1-c798-9c007b622513"
      },
      "id": "vJsn0k2PoCDK",
      "execution_count": 14,
      "outputs": [
        {
          "output_type": "execute_result",
          "data": {
            "text/plain": [
              "28"
            ]
          },
          "metadata": {},
          "execution_count": 14
        }
      ]
    },
    {
      "cell_type": "code",
      "source": [
        "type(tf_sum.numpy())"
      ],
      "metadata": {
        "colab": {
          "base_uri": "https://localhost:8080/"
        },
        "id": "k65sTnAToM1c",
        "outputId": "03259d7d-379a-47fa-e97b-f35e0aa30403"
      },
      "id": "k65sTnAToM1c",
      "execution_count": 15,
      "outputs": [
        {
          "output_type": "execute_result",
          "data": {
            "text/plain": [
              "numpy.int16"
            ]
          },
          "metadata": {},
          "execution_count": 15
        }
      ]
    },
    {
      "cell_type": "code",
      "source": [
        "tf_float = tf.Variable(25, dtype=tf.float16)\n",
        "tf_float"
      ],
      "metadata": {
        "colab": {
          "base_uri": "https://localhost:8080/"
        },
        "id": "alvaEE8yoPzb",
        "outputId": "06eddb04-904b-4800-c8ca-b9e9d772d79a"
      },
      "id": "alvaEE8yoPzb",
      "execution_count": 17,
      "outputs": [
        {
          "output_type": "execute_result",
          "data": {
            "text/plain": [
              "<tf.Variable 'Variable:0' shape=() dtype=float16, numpy=25.0>"
            ]
          },
          "metadata": {},
          "execution_count": 17
        }
      ]
    },
    {
      "cell_type": "code",
      "source": [],
      "metadata": {
        "id": "HI13aFd9obpc"
      },
      "id": "HI13aFd9obpc",
      "execution_count": null,
      "outputs": []
    }
  ],
  "metadata": {
    "kernelspec": {
      "display_name": "Python 3 (ipykernel)",
      "language": "python",
      "name": "python3"
    },
    "language_info": {
      "codemirror_mode": {
        "name": "ipython",
        "version": 3
      },
      "file_extension": ".py",
      "mimetype": "text/x-python",
      "name": "python",
      "nbconvert_exporter": "python",
      "pygments_lexer": "ipython3",
      "version": "3.10.12"
    },
    "colab": {
      "provenance": []
    }
  },
  "nbformat": 4,
  "nbformat_minor": 5
}